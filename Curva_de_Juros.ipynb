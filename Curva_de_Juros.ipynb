{
  "nbformat": 4,
  "nbformat_minor": 0,
  "metadata": {
    "colab": {
      "name": "Curva de Juros.ipynb",
      "provenance": [],
      "authorship_tag": "ABX9TyMgSuQBPx/RKZY0DWD1dl5K",
      "include_colab_link": true
    },
    "kernelspec": {
      "name": "python3",
      "display_name": "Python 3"
    },
    "language_info": {
      "name": "python"
    }
  },
  "cells": [
    {
      "cell_type": "markdown",
      "metadata": {
        "id": "view-in-github",
        "colab_type": "text"
      },
      "source": [
        "<a href=\"https://colab.research.google.com/github/saluiz/python-random-quote/blob/master/Curva_de_Juros.ipynb\" target=\"_parent\"><img src=\"https://colab.research.google.com/assets/colab-badge.svg\" alt=\"Open In Colab\"/></a>"
      ]
    },
    {
      "cell_type": "code",
      "metadata": {
        "id": "O1kbs14G2h7J"
      },
      "source": [
        "# Acessando dados do Investing - libb investpy  "
      ],
      "execution_count": 2,
      "outputs": []
    },
    {
      "cell_type": "code",
      "metadata": {
        "colab": {
          "base_uri": "https://localhost:8080/"
        },
        "id": "voYB84hx3D1y",
        "outputId": "0b974183-14dd-4a76-e1a8-82a462172a34"
      },
      "source": [
        "!pip install investpy"
      ],
      "execution_count": 2,
      "outputs": [
        {
          "output_type": "stream",
          "text": [
            "Requirement already satisfied: investpy in /usr/local/lib/python3.7/dist-packages (1.0.6)\n",
            "Requirement already satisfied: setuptools>=41.2.0 in /usr/local/lib/python3.7/dist-packages (from investpy) (56.0.0)\n",
            "Requirement already satisfied: Unidecode>=1.1.1 in /usr/local/lib/python3.7/dist-packages (from investpy) (1.2.0)\n",
            "Requirement already satisfied: pandas>=0.25.1 in /usr/local/lib/python3.7/dist-packages (from investpy) (1.1.5)\n",
            "Requirement already satisfied: pytz>=2019.3 in /usr/local/lib/python3.7/dist-packages (from investpy) (2021.1)\n",
            "Requirement already satisfied: numpy>=1.17.2 in /usr/local/lib/python3.7/dist-packages (from investpy) (1.19.5)\n",
            "Requirement already satisfied: lxml>=4.4.1 in /usr/local/lib/python3.7/dist-packages (from investpy) (4.6.3)\n",
            "Requirement already satisfied: requests>=2.22.0 in /usr/local/lib/python3.7/dist-packages (from investpy) (2.23.0)\n",
            "Requirement already satisfied: python-dateutil>=2.7.3 in /usr/local/lib/python3.7/dist-packages (from pandas>=0.25.1->investpy) (2.8.1)\n",
            "Requirement already satisfied: idna<3,>=2.5 in /usr/local/lib/python3.7/dist-packages (from requests>=2.22.0->investpy) (2.10)\n",
            "Requirement already satisfied: urllib3!=1.25.0,!=1.25.1,<1.26,>=1.21.1 in /usr/local/lib/python3.7/dist-packages (from requests>=2.22.0->investpy) (1.24.3)\n",
            "Requirement already satisfied: chardet<4,>=3.0.2 in /usr/local/lib/python3.7/dist-packages (from requests>=2.22.0->investpy) (3.0.4)\n",
            "Requirement already satisfied: certifi>=2017.4.17 in /usr/local/lib/python3.7/dist-packages (from requests>=2.22.0->investpy) (2020.12.5)\n",
            "Requirement already satisfied: six>=1.5 in /usr/local/lib/python3.7/dist-packages (from python-dateutil>=2.7.3->pandas>=0.25.1->investpy) (1.15.0)\n"
          ],
          "name": "stdout"
        }
      ]
    },
    {
      "cell_type": "markdown",
      "metadata": {
        "id": "cki6F-Gk3exq"
      },
      "source": [
        "**Bibliotecas**"
      ]
    },
    {
      "cell_type": "code",
      "metadata": {
        "id": "9Eyt-Bdz2wFy"
      },
      "source": [
        "\n",
        "import investpy as inv\n",
        "\n",
        "import matplotlib.pyplot as plt\n",
        "import pandas as pd\n",
        "import seaborn as sns; sns.set()\n",
        "import matplotlib\n",
        "matplotlib.rcParams['figure.figsize']=(16,8)\n"
      ],
      "execution_count": 3,
      "outputs": []
    },
    {
      "cell_type": "markdown",
      "metadata": {
        "id": "3vz6KaHa3jcS"
      },
      "source": [
        "**Juros**"
      ]
    },
    {
      "cell_type": "code",
      "metadata": {
        "id": "XFFJ_Jvp2yOx"
      },
      "source": [
        "bondsBR = inv.get_bonds_list('brazil')"
      ],
      "execution_count": 4,
      "outputs": []
    },
    {
      "cell_type": "code",
      "metadata": {
        "colab": {
          "base_uri": "https://localhost:8080/"
        },
        "id": "Pny5SiMe3xxi",
        "outputId": "d70e9b8c-3900-410d-ca69-71f75432d35a"
      },
      "source": [
        "bondsBR"
      ],
      "execution_count": 14,
      "outputs": [
        {
          "output_type": "execute_result",
          "data": {
            "text/plain": [
              "['Brazil 3M',\n",
              " 'Brazil 6M',\n",
              " 'Brazil 9M',\n",
              " 'Brazil 1Y',\n",
              " 'Brazil 2Y',\n",
              " 'Brazil 3Y',\n",
              " 'Brazil 5Y',\n",
              " 'Brazil 8Y',\n",
              " 'Brazil 10Y']"
            ]
          },
          "metadata": {
            "tags": []
          },
          "execution_count": 14
        }
      ]
    },
    {
      "cell_type": "code",
      "metadata": {
        "id": "jMBQpC4r5Ffj"
      },
      "source": [
        "bonds_overview = inv.get_bonds_overview('brazil')"
      ],
      "execution_count": 13,
      "outputs": []
    },
    {
      "cell_type": "code",
      "metadata": {
        "colab": {
          "base_uri": "https://localhost:8080/",
          "height": 314
        },
        "id": "qsaGcrbJ5KAL",
        "outputId": "b009007a-cd6c-4156-c8aa-0b8df84733e3"
      },
      "source": [
        "bonds_overview"
      ],
      "execution_count": 12,
      "outputs": [
        {
          "output_type": "execute_result",
          "data": {
            "text/html": [
              "<div>\n",
              "<style scoped>\n",
              "    .dataframe tbody tr th:only-of-type {\n",
              "        vertical-align: middle;\n",
              "    }\n",
              "\n",
              "    .dataframe tbody tr th {\n",
              "        vertical-align: top;\n",
              "    }\n",
              "\n",
              "    .dataframe thead th {\n",
              "        text-align: right;\n",
              "    }\n",
              "</style>\n",
              "<table border=\"1\" class=\"dataframe\">\n",
              "  <thead>\n",
              "    <tr style=\"text-align: right;\">\n",
              "      <th></th>\n",
              "      <th>country</th>\n",
              "      <th>name</th>\n",
              "      <th>last</th>\n",
              "      <th>last_close</th>\n",
              "      <th>high</th>\n",
              "      <th>low</th>\n",
              "      <th>change</th>\n",
              "      <th>change_percentage</th>\n",
              "    </tr>\n",
              "  </thead>\n",
              "  <tbody>\n",
              "    <tr>\n",
              "      <th>0</th>\n",
              "      <td>brazil</td>\n",
              "      <td>Brazil 3M</td>\n",
              "      <td>3.541</td>\n",
              "      <td>3.466</td>\n",
              "      <td>3.541</td>\n",
              "      <td>3.541</td>\n",
              "      <td>+0.000</td>\n",
              "      <td>+0.00%</td>\n",
              "    </tr>\n",
              "    <tr>\n",
              "      <th>1</th>\n",
              "      <td>brazil</td>\n",
              "      <td>Brazil 6M</td>\n",
              "      <td>4.208</td>\n",
              "      <td>4.170</td>\n",
              "      <td>4.208</td>\n",
              "      <td>4.208</td>\n",
              "      <td>+0.000</td>\n",
              "      <td>+0.00%</td>\n",
              "    </tr>\n",
              "    <tr>\n",
              "      <th>2</th>\n",
              "      <td>brazil</td>\n",
              "      <td>Brazil 9M</td>\n",
              "      <td>4.791</td>\n",
              "      <td>4.760</td>\n",
              "      <td>4.791</td>\n",
              "      <td>4.791</td>\n",
              "      <td>+0.000</td>\n",
              "      <td>+0.00%</td>\n",
              "    </tr>\n",
              "    <tr>\n",
              "      <th>3</th>\n",
              "      <td>brazil</td>\n",
              "      <td>Brazil 1Y</td>\n",
              "      <td>5.172</td>\n",
              "      <td>5.175</td>\n",
              "      <td>5.172</td>\n",
              "      <td>5.172</td>\n",
              "      <td>0.000</td>\n",
              "      <td>0.00%</td>\n",
              "    </tr>\n",
              "    <tr>\n",
              "      <th>4</th>\n",
              "      <td>brazil</td>\n",
              "      <td>Brazil 2Y</td>\n",
              "      <td>6.793</td>\n",
              "      <td>7.066</td>\n",
              "      <td>6.793</td>\n",
              "      <td>6.793</td>\n",
              "      <td>0.000</td>\n",
              "      <td>0.00%</td>\n",
              "    </tr>\n",
              "    <tr>\n",
              "      <th>5</th>\n",
              "      <td>brazil</td>\n",
              "      <td>Brazil 3Y</td>\n",
              "      <td>7.064</td>\n",
              "      <td>7.545</td>\n",
              "      <td>7.064</td>\n",
              "      <td>7.064</td>\n",
              "      <td>0.000</td>\n",
              "      <td>0.00%</td>\n",
              "    </tr>\n",
              "    <tr>\n",
              "      <th>6</th>\n",
              "      <td>brazil</td>\n",
              "      <td>Brazil 5Y</td>\n",
              "      <td>7.875</td>\n",
              "      <td>7.900</td>\n",
              "      <td>7.875</td>\n",
              "      <td>7.875</td>\n",
              "      <td>0.000</td>\n",
              "      <td>0.00%</td>\n",
              "    </tr>\n",
              "    <tr>\n",
              "      <th>7</th>\n",
              "      <td>brazil</td>\n",
              "      <td>Brazil 8Y</td>\n",
              "      <td>8.600</td>\n",
              "      <td>8.940</td>\n",
              "      <td>8.600</td>\n",
              "      <td>8.600</td>\n",
              "      <td>0.000</td>\n",
              "      <td>0.00%</td>\n",
              "    </tr>\n",
              "    <tr>\n",
              "      <th>8</th>\n",
              "      <td>brazil</td>\n",
              "      <td>Brazil 10Y</td>\n",
              "      <td>9.293</td>\n",
              "      <td>9.330</td>\n",
              "      <td>9.293</td>\n",
              "      <td>9.293</td>\n",
              "      <td>+0.000</td>\n",
              "      <td>+0.00%</td>\n",
              "    </tr>\n",
              "  </tbody>\n",
              "</table>\n",
              "</div>"
            ],
            "text/plain": [
              "  country        name   last  ...    low  change  change_percentage\n",
              "0  brazil   Brazil 3M  3.541  ...  3.541  +0.000             +0.00%\n",
              "1  brazil   Brazil 6M  4.208  ...  4.208  +0.000             +0.00%\n",
              "2  brazil   Brazil 9M  4.791  ...  4.791  +0.000             +0.00%\n",
              "3  brazil   Brazil 1Y  5.172  ...  5.172   0.000              0.00%\n",
              "4  brazil   Brazil 2Y  6.793  ...  6.793   0.000              0.00%\n",
              "5  brazil   Brazil 3Y  7.064  ...  7.064   0.000              0.00%\n",
              "6  brazil   Brazil 5Y  7.875  ...  7.875   0.000              0.00%\n",
              "7  brazil   Brazil 8Y  8.600  ...  8.600   0.000              0.00%\n",
              "8  brazil  Brazil 10Y  9.293  ...  9.293  +0.000             +0.00%\n",
              "\n",
              "[9 rows x 8 columns]"
            ]
          },
          "metadata": {
            "tags": []
          },
          "execution_count": 12
        }
      ]
    },
    {
      "cell_type": "code",
      "metadata": {
        "colab": {
          "base_uri": "https://localhost:8080/",
          "height": 502
        },
        "id": "xA86Bq_45hHw",
        "outputId": "5ccad05a-3796-4fba-e520-7d5d2d057119"
      },
      "source": [
        "plt.plot(bondsBR, bonds_overview['last_close'] )\n",
        "plt.ylabel('Procentagem%')"
      ],
      "execution_count": 16,
      "outputs": [
        {
          "output_type": "execute_result",
          "data": {
            "text/plain": [
              "Text(0, 0.5, 'Procentagem%')"
            ]
          },
          "metadata": {
            "tags": []
          },
          "execution_count": 16
        },
        {
          "output_type": "display_data",
          "data": {
            "image/png": "[encoded data removed]",
            "text/plain": [
              "<Figure size 1152x576 with 1 Axes>"
            ]
          },
          "metadata": {
            "tags": []
          }
        }
      ]
    },
    {
      "cell_type": "code",
      "metadata": {
        "id": "f7wcuHfa7UHD"
      },
      "source": [
        ""
      ],
      "execution_count": null,
      "outputs": []
    }
  ]
}